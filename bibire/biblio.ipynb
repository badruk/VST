{
 "cells": [
  {
   "cell_type": "markdown",
   "id": "618ec752-6cc8-4c2c-b6fa-2536860e4372",
   "metadata": {},
   "source": [
    "Import del dataset e definizione funzioni"
   ]
  },
  {
   "cell_type": "code",
   "execution_count": 1,
   "id": "0c116a40-18f4-4e44-a470-65affaf3bf5a",
   "metadata": {},
   "outputs": [],
   "source": [
    "def name_s(string):\n",
    "    # sets the surname, name into SURNAME N. and handles errors\n",
    "    if ',' in string:\n",
    "        comma = string.index(',');\n",
    "        risposta = (string[0: comma] + ' ' + string[comma +2] + '.');\n",
    "    else:\n",
    "        risposta = string;\n",
    "    if risposta.upper() == \"NAN\" or risposta.upper() == \"AA. V.\":\n",
    "        risposta = \"AA. VV.\";\n",
    "    return risposta;\n",
    "\n",
    "def name_surname(string):\n",
    "    if ',' in string:\n",
    "        comma = string.index(',');\n",
    "        risposta = (string[comma +2:] + ' ' + string[0: comma]);\n",
    "    else:\n",
    "        risposta = string;\n",
    "    if risposta.upper() == \"NAN\" or risposta.upper() == \"AA. V.\":\n",
    "        risposta = \"AA. VV.\";\n",
    "    return risposta;\n",
    "\n",
    "def clean_name(string, upper = 1):\n",
    "    # splits string into different and adds commas\n",
    "    tot = \"\";\n",
    "    if string == \"NESSUNO\":\n",
    "        return \"\";        \n",
    "    if upper:\n",
    "        for i in string.split(\";\"):\n",
    "            if tot != \"\":\n",
    "                tot = tot + \", \";\n",
    "            tot = tot + name_s(i);       \n",
    "        return tot.upper() + \", \";\n",
    "    else:\n",
    "        for i in string.split(\";\"):\n",
    "            if tot != \"\":\n",
    "                tot = tot + \" e \";\n",
    "            tot = tot + name_surname(i);\n",
    "        return tot + \", \";\n",
    "    \n",
    "def clean_pages(string):\n",
    "    # adds prefix to pages\n",
    "    if '-' in str(string):\n",
    "        return ', pp. ' + str(string);\n",
    "    else:\n",
    "        return ', p. ' + str(string);\n",
    "\n",
    "def italic(string):\n",
    "    # turns to italic for html\n",
    "    return '<em>' + string + '</em>'\n",
    "\n",
    "def save_row(string, file):\n",
    "    # appends to file \"file\" string \"string\"\n",
    "    out_file = open(file,'a')\n",
    "    out_file.write(string)\n",
    "    out_file.write('<br>')\n",
    "    out_file.close()\n",
    "\n",
    "def save_html(lista, file = 'output.html'):\n",
    "    # creates and closes files, uses \"save row\" for each row\n",
    "    \n",
    "    output_file = open(file,'w')\n",
    "    output_file.write('')\n",
    "    output_file.close()\n",
    "\n",
    "    for i in lista:\n",
    "        save_row(i, file);\n",
    "\n",
    "    output_file = open(file,'a')\n",
    "    output_file.write('')\n",
    "    output_file.close()\n",
    "    \n",
    "def section_lista(string, lista):\n",
    "    # adds formatting to export\n",
    "    lista.append('--------------')\n",
    "    lista.append(string)\n",
    "    lista.append('--------------')\n",
    "    return lista;"
   ]
  },
  {
   "cell_type": "code",
   "execution_count": 2,
   "id": "0345622b-e02b-4528-912b-b6ab350a7d3a",
   "metadata": {},
   "outputs": [],
   "source": [
    "import pandas as pd\n",
    "df = pd.read_csv('bib.csv')\n",
    "df.sort_values(by=['Author'], inplace=True) # keeps sorting"
   ]
  },
  {
   "cell_type": "markdown",
   "id": "1f804647-690c-4d8c-b409-20445660ed46",
   "metadata": {},
   "source": [
    "Definizione dei vari subset e controllo numeriche"
   ]
  },
  {
   "cell_type": "code",
   "execution_count": 3,
   "id": "443ca9e4-a1a2-4d21-84a7-ee51fa7f5006",
   "metadata": {},
   "outputs": [
    {
     "name": "stdout",
     "output_type": "stream",
     "text": [
      "Article Journal -  46\n",
      "Article Journal URL -  8\n",
      "Newspaper Journal -  2\n",
      "Newspaper Journal URL -  1\n",
      "Book -  76\n",
      "Book Editor -  47\n",
      "Book Section -  6\n",
      "\n",
      "Total sum -  186\n",
      "Total df -  203\n"
     ]
    }
   ],
   "source": [
    "article_journal =  df[  (df['Item Type'] == 'journalArticle') & ( df['Url'].isnull() & df['DOI'].isnull())]\n",
    "#article_journal_url =  df[  (df['Item Type'] == 'journalArticle') & df['Url'].notnull()]\n",
    "article_journal_url =  df[  (df['Item Type'] == 'journalArticle') & ( df['Url'].notnull() | df['DOI'].notnull())]\n",
    "\n",
    "article_newspaper = df[  (df['Item Type'] == 'newspaperArticle') & df['Url'].isnull()]\n",
    "article_newspaper_url = df[  (df['Item Type'] == 'newspaperArticle') & df['Url'].notnull()]\n",
    "\n",
    "book = df[( df['Item Type'] == 'book' ) & df['Editor'].isnull()]\n",
    "book_editor = df[( df['Item Type'] == 'book' ) & df['Editor'].notnull()]\n",
    "\n",
    "book_section = df[( df['Item Type'] == 'bookSection') & df['Editor'].isnull()]\n",
    "book_section_editor = df[( df['Item Type'] == 'bookSection') & df['Editor'].notnull()]\n",
    "\n",
    "print('Article Journal - ', len(article_journal.index))\n",
    "print('Article Journal URL - ', len(article_journal_url.index))\n",
    "print('Newspaper Journal - ', len(article_newspaper.index))\n",
    "print('Newspaper Journal URL - ', len(article_newspaper_url.index))\n",
    "print('Book - ', len(book.index))\n",
    "print('Book Editor - ', len(book_editor.index))\n",
    "print('Book Section - ', len(book_section.index))\n",
    "print('')\n",
    "print('Total sum - ', len(article_journal.index)+len(article_journal_url.index)+len(article_newspaper.index)+\n",
    "     len(article_newspaper_url.index)+ len(book.index) + len(book_editor.index) + len(book_section.index))\n",
    "print('Total df - ', len(df.index))"
   ]
  },
  {
   "cell_type": "markdown",
   "id": "41c2ac16-ac9b-4aea-9d7c-a22f2056c546",
   "metadata": {},
   "source": [
    "Articoli di Giornale"
   ]
  },
  {
   "cell_type": "code",
   "execution_count": 4,
   "id": "1b0353b8",
   "metadata": {},
   "outputs": [],
   "source": [
    "# initializes all needed variables\n",
    "lista_all = [];\n",
    "numero_entries = 0;"
   ]
  },
  {
   "cell_type": "code",
   "execution_count": 5,
   "id": "fbacfa2c-9b1b-46c6-a84a-a1eef80ef193",
   "metadata": {},
   "outputs": [],
   "source": [
    "section_lista('article_newspaper', lista_all)\n",
    "\n",
    "for index, row in article_newspaper.iterrows():\n",
    "    author = clean_name(row['Author']);\n",
    "    title = italic(row['Title']);\n",
    "    pub_title = row['Publication Title'];\n",
    "    date = (row['Date']);\n",
    "    if pd.isnull(row['Pages']):\n",
    "        pages = '';\n",
    "    else:\n",
    "        pages = clean_pages(row['Pages']);\n",
    "    \n",
    "    esimo = author + title + ' in «' + pub_title + '», ' + date + pages;\n",
    "    lista_all.append(esimo);\n",
    "    numero_entries = numero_entries + 1;"
   ]
  },
  {
   "cell_type": "code",
   "execution_count": 6,
   "id": "efc3a0ba-11fa-4a91-90a2-a3ef9bfc0424",
   "metadata": {},
   "outputs": [],
   "source": [
    "section_lista('article_journal', lista_all)\n",
    "\n",
    "for index, row in article_journal.iterrows():\n",
    "    author = clean_name(str(row['Author']));\n",
    "    title = italic(row['Title']);\n",
    "    pub_title = str(row['Publication Title']);\n",
    "    date = str(row['Date']);\n",
    "    if pd.isnull(row['Pages']):\n",
    "        pages = '';\n",
    "    else:\n",
    "        pages = clean_pages(row['Pages']);\n",
    "    \n",
    "    volissue = \"\";\n",
    "    volume = str(row['Volume']);\n",
    "    if volume != \"nan\":\n",
    "        volissue = volissue + volume + ', ';\n",
    "    issue = str(row['Issue']);\n",
    "    if issue != \"nan\":\n",
    "        volissue = volissue + issue + ', ';\n",
    "    \n",
    "    esimo = author + title + ' in «' + pub_title + '», ' + volissue + date + pages;\n",
    "    lista_all.append(esimo);\n",
    "    numero_entries = numero_entries + 1;"
   ]
  },
  {
   "cell_type": "code",
   "execution_count": 7,
   "id": "75cc378a-a60c-4513-a919-7ef97f9b8cd2",
   "metadata": {},
   "outputs": [],
   "source": [
    "section_lista('book', lista_all)\n",
    "\n",
    "for index, row in book.iterrows():\n",
    "    author = clean_name(str((row['Author'])));\n",
    "    title = italic(str(row['Title']));\n",
    "    publisher = str(row['Publisher']);\n",
    "    place = str(row['Place']);\n",
    "    date = str(row['Date']);\n",
    "    \n",
    "    esimo = author + title + ', ' + publisher + ', ' + place + ', ' + date;\n",
    "    lista_all.append(esimo);\n",
    "    numero_entries = numero_entries + 1;"
   ]
  },
  {
   "cell_type": "code",
   "execution_count": 8,
   "id": "4762d4a5-bd9b-4ebc-bfa1-10c7c6879bf8",
   "metadata": {},
   "outputs": [],
   "source": [
    "section_lista('book_editor', lista_all)\n",
    "    \n",
    "for index, row in book_editor.iterrows():\n",
    "    author = clean_name(str((row['Author'])));\n",
    "    title = italic(str(row['Title']));\n",
    "    editor = str(clean_name(row['Editor'], 0));\n",
    "    publisher = str(row['Publisher']);\n",
    "    place = str(row['Place']);\n",
    "    date = str(row['Date']);\n",
    "    \n",
    "    esimo = author + title + ', a cura di ' + editor + publisher + ', ' + place + ', ' + date;\n",
    "    lista_all.append(esimo);\n",
    "    numero_entries = numero_entries + 1;"
   ]
  },
  {
   "cell_type": "code",
   "execution_count": 9,
   "id": "41de0b4c-f481-438e-b64a-c606ab08a456",
   "metadata": {},
   "outputs": [],
   "source": [
    "section_lista('book_section', lista_all)\n",
    "\n",
    "for index, row in book_section.iterrows():\n",
    "    author = clean_name(str((row['Author'])));\n",
    "    title = italic(str(row['Title']));\n",
    "    pub_title = italic(str(row['Publication Title']));\n",
    "    pub_editor = clean_name(str(row['Editor']), 0);\n",
    "    publisher = str(row['Publisher']);\n",
    "    place = str(row['Place']);\n",
    "    date = str(row['Date']);\n",
    "    if pd.isnull(row['Pages']):\n",
    "        pages = '';\n",
    "    else:\n",
    "        pages = clean_pages(row['Pages']);\n",
    "    \n",
    "    esimo = author + title + ' in ' + pub_editor + pub_title + ', ' + publisher + ', ' + place + ', ' + date + pages;\n",
    "    lista_all.append(esimo)\n",
    "    numero_entries = numero_entries + 1;"
   ]
  },
  {
   "cell_type": "code",
   "execution_count": 10,
   "id": "adeff665-53b0-49f1-bdac-fe029a53bb59",
   "metadata": {},
   "outputs": [],
   "source": [
    "section_lista('book_section_editor', lista_all)\n",
    "    \n",
    "for index, row in book_section_editor.iterrows():\n",
    "    author = clean_name(str((row['Author'])));\n",
    "    title = italic(str(row['Title']));\n",
    "    editor = str(clean_name(row['Editor'], 0));\n",
    "    publisher = str(row['Publisher']);\n",
    "    pub_title = italic(str(row['Publication Title']));\n",
    "    pub_editor = clean_name(str(row['Editor']), 0);\n",
    "    place = str(row['Place']);\n",
    "    date = str(row['Date']);\n",
    "    if pd.isnull(row['Pages']):\n",
    "        pages = '';\n",
    "    else:\n",
    "        pages = clean_pages(row['Pages']);\n",
    "\n",
    "    esimo = author + title + ', in <<< INSERIRE >>> ' + pub_title + ', a cura di ' + editor + publisher + ', ' + place + ', ' + date + pages;\n",
    "    lista_all.append(esimo);\n",
    "    numero_entries = numero_entries + 1;"
   ]
  },
  {
   "cell_type": "code",
   "execution_count": 11,
   "id": "e214c290",
   "metadata": {},
   "outputs": [],
   "source": [
    "section_lista('article journal url', lista_all)\n",
    "\n",
    "for index, row in article_journal_url.iterrows():\n",
    "    author = clean_name(str((row['Author'])));\n",
    "    title = italic(str(row['Title']));\n",
    "    if str(row['DOI']) != \"nan\":\n",
    "        indirizzo = \"DOI: \" + str(row['DOI']);\n",
    "    else:\n",
    "        indirizzo = \"URL: \" + str(row['Url']);\n",
    "    \n",
    "    \n",
    "    esimo = author + title + ', ' + indirizzo;\n",
    "    lista_all.append(esimo)\n",
    "    numero_entries = numero_entries + 1;"
   ]
  },
  {
   "cell_type": "code",
   "execution_count": 12,
   "id": "cb651b87-d4b7-465f-b6e0-c6b2043bffe2",
   "metadata": {},
   "outputs": [],
   "source": [
    "section_lista('article_newspaper_url', lista_all)\n",
    "\n",
    "for index, row in article_newspaper_url.iterrows():\n",
    "    author = clean_name(str((row['Author'])));\n",
    "    title = italic(str(row['Title']));\n",
    "    if str(row['DOI']) != \"nan\":\n",
    "        indirizzo = \"DOI: \" + str(row['DOI']);\n",
    "    else:\n",
    "        indirizzo = \"URL: \" + str(row['Url']);\n",
    "    \n",
    "    \n",
    "    esimo = author + title + ', ' + indirizzo;\n",
    "    lista_all.append(esimo)\n",
    "    numero_entries = numero_entries + 1;"
   ]
  },
  {
   "cell_type": "code",
   "execution_count": 13,
   "id": "57c56e5f-d5e4-42cb-84e4-2ff83265c305",
   "metadata": {},
   "outputs": [
    {
     "name": "stdout",
     "output_type": "stream",
     "text": [
      "Censiti 203 di un totale 203\n"
     ]
    }
   ],
   "source": [
    "section_lista('Modificare a mano', lista_all)\n",
    "lista_all.append('Gennaro, Montanile, Paulhan - aggiungere curatore')\n",
    "lista_all.append('Controllare date estese')\n",
    "lista_all.append('Aggiungere traduttore a Benjamin --> \"titolo, traduzione a cura di XXX, \"')\n",
    "lista_all.append('Eva ultima --> modificare a mano con \"prefazione di\"')\n",
    "lista_all.append('Aggiungere ebook a \"Masino\" + \"Grignani\"')\n",
    "lista_all.append('Se due nomi consecutivi uguali inserire \"-\"')\n",
    "lista_all.append('Inserire autore volumi + curatore \"<<< INSERIRE >>>\"')\n",
    "lista_all.append('Modificare Contorbia, Saponaro, Striano')\n",
    "lista_all.append('Controllare Tortora')\n",
    "lista_all.append('Risistemare ordine alfabetico')\n",
    "\n",
    "controllo = 'Censiti ' + str(numero_entries) + ' di un totale ' + str(len(df.index));\n",
    "\n",
    "section_lista(str(controllo), lista_all)\n",
    "\n",
    "save_html(lista_all, 'bibliografia.html')\n",
    "\n",
    "print(controllo)"
   ]
  },
  {
   "cell_type": "code",
   "execution_count": null,
   "id": "04312d30-d827-4fa3-8ee8-0d470b969ed7",
   "metadata": {},
   "outputs": [],
   "source": []
  }
 ],
 "metadata": {
  "kernelspec": {
   "display_name": "Python 3",
   "language": "python",
   "name": "python3"
  },
  "language_info": {
   "codemirror_mode": {
    "name": "ipython",
    "version": 3
   },
   "file_extension": ".py",
   "mimetype": "text/x-python",
   "name": "python",
   "nbconvert_exporter": "python",
   "pygments_lexer": "ipython3",
   "version": "3.8.8"
  }
 },
 "nbformat": 4,
 "nbformat_minor": 5
}

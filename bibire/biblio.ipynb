{
 "cells": [
  {
   "cell_type": "markdown",
   "id": "618ec752-6cc8-4c2c-b6fa-2536860e4372",
   "metadata": {},
   "source": [
    "Import del dataset e definizione funzioni"
   ]
  },
  {
   "cell_type": "code",
   "execution_count": 1,
   "id": "0c116a40-18f4-4e44-a470-65affaf3bf5a",
   "metadata": {},
   "outputs": [],
   "source": [
    "def clean_name_1(string):\n",
    "    if ',' in string:\n",
    "        comma = string.index(',');\n",
    "        return (string[0: comma+2] + string[comma +2] + '.').upper();\n",
    "    else:\n",
    "        return string.upper();\n",
    "    \n",
    "def clean_name(string):\n",
    "    if clean_name_1(string) == \"NAN\":\n",
    "        return \"AA. VV.\";\n",
    "    if clean_name_1(string) == \"AA., V.\":\n",
    "        return \"AA. VV.\"\n",
    "    return clean_name_1(string);\n",
    "    \n",
    "def clean_pages(string):\n",
    "    if '-' in str(string):\n",
    "        return ', pp. ' + str(string);\n",
    "    else:\n",
    "        return ', p. ' + str(string);\n",
    "    \n",
    "def clean_date(string):\n",
    "    date_time =  datetime.strptime(str(string), '%D ');\n",
    "    return date_time;\n",
    "\n",
    "def italic(string):\n",
    "    return '<em>' + string + '</em>'\n",
    "\n",
    "\n",
    "def save_to_file(string, file):\n",
    "    out_file = open(file,'a')\n",
    "    out_file.write(string)\n",
    "    out_file.write('<br>')\n",
    "    out_file.close()\n",
    "    \n",
    "def save_html(lista, file = 'output.html'):\n",
    "    output_file = open(file,'w')\n",
    "    output_file.write('')\n",
    "    output_file.close()\n",
    "\n",
    "    for i in lista:\n",
    "        save_to_file(i, file);\n",
    "\n",
    "    output_file = open(file,'a')\n",
    "    output_file.write('')\n",
    "    output_file.close()"
   ]
  },
  {
   "cell_type": "code",
   "execution_count": 2,
   "id": "0345622b-e02b-4528-912b-b6ab350a7d3a",
   "metadata": {},
   "outputs": [],
   "source": [
    "import pandas as pd\n",
    "df = pd.read_csv('all_bibs.csv')\n",
    "df.sort_values(by=['Author'], inplace=True)"
   ]
  },
  {
   "cell_type": "markdown",
   "id": "1f804647-690c-4d8c-b409-20445660ed46",
   "metadata": {},
   "source": [
    "Definizione dei vari subset e controllo numeriche"
   ]
  },
  {
   "cell_type": "code",
   "execution_count": 3,
   "id": "443ca9e4-a1a2-4d21-84a7-ee51fa7f5006",
   "metadata": {},
   "outputs": [
    {
     "name": "stdout",
     "output_type": "stream",
     "text": [
      "Article Journal -  50\n",
      "Article Journal URL -  4\n",
      "Newspaper Journal -  2\n",
      "Newspaper Journal URL -  1\n",
      "Book -  82\n",
      "Book Section -  23\n",
      "\n",
      "Total sum -  162\n",
      "Total df -  205\n"
     ]
    }
   ],
   "source": [
    "article_journal =  df[  (df['Item Type'] == 'journalArticle') & df['Url'].isnull()]\n",
    "article_journal_url =  df[  (df['Item Type'] == 'journalArticle') & df['Url'].notnull()]\n",
    "\n",
    "article_newspaper = df[  (df['Item Type'] == 'newspaperArticle') & df['Url'].isnull()]\n",
    "article_newspaper_url = df[  (df['Item Type'] == 'newspaperArticle') & df['Url'].notnull()]\n",
    "\n",
    "book = df[( df['Item Type'] == 'book' ) & df['Editor'].isnull()]\n",
    "book_editor = df[( df['Item Type'] == 'book' ) & df['Editor'].notnull()]\n",
    "book_section = df[ df['Item Type'] == 'bookSection' ]\n",
    "\n",
    "print('Article Journal - ', len(article_journal.index))\n",
    "print('Article Journal URL - ', len(article_journal_url.index))\n",
    "print('Newspaper Journal - ', len(article_newspaper.index))\n",
    "print('Newspaper Journal URL - ', len(article_newspaper_url.index))\n",
    "print('Book - ', len(book.index))\n",
    "print('Book Section - ', len(book_section.index))\n",
    "print('')\n",
    "print('Total sum - ', len(article_journal.index)+len(article_journal_url.index)+len(article_newspaper.index)+\n",
    "     len(article_newspaper_url.index)+ len(book.index) + len(book_section.index))\n",
    "print('Total df - ', len(df.index))"
   ]
  },
  {
   "cell_type": "markdown",
   "id": "41c2ac16-ac9b-4aea-9d7c-a22f2056c546",
   "metadata": {},
   "source": [
    "Articoli di Giornale"
   ]
  },
  {
   "cell_type": "code",
   "execution_count": 4,
   "id": "fbacfa2c-9b1b-46c6-a84a-a1eef80ef193",
   "metadata": {},
   "outputs": [],
   "source": [
    "lista_book = [];\n",
    "\n",
    "lista_book.append('--------------')\n",
    "lista_book.append('Articoli Newspaper')\n",
    "lista_book.append('--------------')\n",
    "\n",
    "for index, row in article_newspaper.iterrows():\n",
    "    author = clean_name(row['Author']);\n",
    "    title = italic(row['Title']);\n",
    "    pub_title = row['Publication Title'];\n",
    "    date = (row['Date']);\n",
    "    if pd.isnull(row['Pages']):\n",
    "        pages = '';\n",
    "    else:\n",
    "        pages = clean_pages(row['Pages']);\n",
    "    \n",
    "    # print('Indice - ', index+2)\n",
    "    esimo = author + ', ' + title + ' in «' + pub_title + '», ' + date + pages;\n",
    "    # print(esimo)\n",
    "    lista_book.append(esimo);"
   ]
  },
  {
   "cell_type": "code",
   "execution_count": 5,
   "id": "1c27cea2-e8a2-4baf-9b26-e1ca53fdcfcf",
   "metadata": {},
   "outputs": [],
   "source": [
    "lista_book.append('--------------')\n",
    "lista_book.append('Articoli Journal')\n",
    "lista_book.append('--------------')\n",
    "\n",
    "for index, row in article_journal.iterrows():\n",
    "    author = clean_name(str(row['Author']));\n",
    "    title = italic(row['Title']);\n",
    "    pub_title = str(row['Publication Title']);\n",
    "    date = str(row['Date']);\n",
    "    if pd.isnull(row['Pages']):\n",
    "        pages = '';\n",
    "    else:\n",
    "        pages = clean_pages(row['Pages']);\n",
    "    \n",
    "    # print('Indice - ', index+2)\n",
    "    esimo = author + ', ' + title + ' in «' + pub_title + '», ' + date + pages;\n",
    "    # print(esimo)\n",
    "    lista_book.append(esimo);"
   ]
  },
  {
   "cell_type": "code",
   "execution_count": 6,
   "id": "efc3a0ba-11fa-4a91-90a2-a3ef9bfc0424",
   "metadata": {},
   "outputs": [],
   "source": [
    "lista_book.append('--------------')\n",
    "lista_book.append('Articoli Journal')\n",
    "lista_book.append('--------------')\n",
    "\n",
    "for index, row in article_journal.iterrows():\n",
    "    author = clean_name(str(row['Author']));\n",
    "    title = italic(row['Title']);\n",
    "    pub_title = str(row['Publication Title']);\n",
    "    date = str(row['Date']);\n",
    "    if pd.isnull(row['Pages']):\n",
    "        pages = '';\n",
    "    else:\n",
    "        pages = clean_pages(row['Pages']);\n",
    "    \n",
    "    # print('Indice - ', index+2)\n",
    "    esimo = author + ', ' + title + ' in «' + pub_title + '», ' + date + pages;\n",
    "    # print(esimo)\n",
    "    lista_book.append(esimo);"
   ]
  },
  {
   "cell_type": "code",
   "execution_count": 7,
   "id": "75cc378a-a60c-4513-a919-7ef97f9b8cd2",
   "metadata": {},
   "outputs": [],
   "source": [
    "lista_book.append('--------------')\n",
    "lista_book.append('Libri senza Curatore')\n",
    "lista_book.append('--------------')\n",
    "\n",
    "for index, row in book.iterrows():\n",
    "    author = clean_name(str((row['Author'])));\n",
    "    title = italic(str(row['Title']));\n",
    "    publisher = str(row['Publisher']);\n",
    "    place = str(row['Place']);\n",
    "    date = str(row['Date']);\n",
    "    \n",
    "    esimo = author + ', ' + title + ', ' + publisher + ', ' + place + ', ' + date;\n",
    "    lista_book.append(esimo);"
   ]
  },
  {
   "cell_type": "code",
   "execution_count": 8,
   "id": "4762d4a5-bd9b-4ebc-bfa1-10c7c6879bf8",
   "metadata": {},
   "outputs": [],
   "source": [
    "lista_book.append('--------------')\n",
    "lista_book.append('Libri con Curatore')\n",
    "lista_book.append('--------------')\n",
    "    \n",
    "for index, row in book_editor.iterrows():\n",
    "    author = clean_name(str((row['Author'])));\n",
    "    title = italic(str(row['Title']));\n",
    "    editor = str(row['Editor']);\n",
    "    publisher = str(row['Publisher']);\n",
    "    place = str(row['Place']);\n",
    "    date = str(row['Date']);\n",
    "    \n",
    "    esimo = author + ', ' + title + ', a cura di ' + editor + ', ' + publisher + ', ' + place + ', ' + date;\n",
    "    lista_book.append(esimo);"
   ]
  },
  {
   "cell_type": "code",
   "execution_count": 9,
   "id": "41de0b4c-f481-438e-b64a-c606ab08a456",
   "metadata": {},
   "outputs": [],
   "source": [
    "lista_book.append('--------------')\n",
    "lista_book.append('Libri sezioni')\n",
    "lista_book.append('--------------')\n",
    "\n",
    "for index, row in book_section.iterrows():\n",
    "    author = clean_name(str((row['Author'])));\n",
    "    title = italic(str(row['Title']));\n",
    "    pub_title = italic(str(row['Publication Title']));\n",
    "    pub_editor = clean_name(str(row['Editor']));\n",
    "    publisher = str(row['Publisher']);\n",
    "    place = str(row['Place']);\n",
    "    date = str(row['Date']);\n",
    "    \n",
    "    esimo = author + ', ' + title + ' in ' + pub_editor + ', ' + pub_title + ', ' + publisher + ', ' + place + ', ' + date;\n",
    "    lista_book.append(esimo)"
   ]
  },
  {
   "cell_type": "code",
   "execution_count": 10,
   "id": "57c56e5f-d5e4-42cb-84e4-2ff83265c305",
   "metadata": {},
   "outputs": [],
   "source": [
    "save_html(lista_book, 'book.html')"
   ]
  }
 ],
 "metadata": {
  "kernelspec": {
   "display_name": "Python 3",
   "language": "python",
   "name": "python3"
  },
  "language_info": {
   "codemirror_mode": {
    "name": "ipython",
    "version": 3
   },
   "file_extension": ".py",
   "mimetype": "text/x-python",
   "name": "python",
   "nbconvert_exporter": "python",
   "pygments_lexer": "ipython3",
   "version": "3.8.8"
  }
 },
 "nbformat": 4,
 "nbformat_minor": 5
}
